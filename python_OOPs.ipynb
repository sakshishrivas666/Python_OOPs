{
  "nbformat": 4,
  "nbformat_minor": 0,
  "metadata": {
    "colab": {
      "provenance": []
    },
    "kernelspec": {
      "name": "python3",
      "display_name": "Python 3"
    },
    "language_info": {
      "name": "python"
    }
  },
  "cells": [
    {
      "cell_type": "markdown",
      "source": [
        "# Python OOPs Theory Questions"
      ],
      "metadata": {
        "id": "tcbU-qL4DLl7"
      }
    },
    {
      "cell_type": "markdown",
      "source": [
        "1. What is Object-Oriented Programming (OOP) ?\n",
        "    - Object-Oriented Programming (OOP) is a programming paradigm that organizes software design around objects, which are instances of classes. It focuses on using objects that contain data (attributes) and behavior (methods) to model real-world entities and their interactions. OOP promotes principles such as encapsulation, inheritance, polymorphism, and abstraction to improve code reusability, scalability, and maintainability."
      ],
      "metadata": {
        "id": "veUaCnQqDLqc"
      }
    },
    {
      "cell_type": "markdown",
      "source": [
        "2.  What is a class in OOP ?\n",
        "    - Class in Object-Oriented Programming (OOP) is a blueprint or template for creating objects. It defines a set of attributes (data) and methods (functions) that describe the behavior and state of the objects created from it. A class does not hold actual data but provides the structure for creating individual instances (objects)."
      ],
      "metadata": {
        "id": "eMSRecNPDLxy"
      }
    },
    {
      "cell_type": "markdown",
      "source": [
        "3.  What is an object in OOP ?\n",
        "    - Object in Object-Oriented Programming (OOP) is an instance of a class. It represents a specific entity that has state (defined by attributes) and behavior (defined by methods). Objects are the actual components that perform actions and hold data in an OOP program."
      ],
      "metadata": {
        "id": "RQxTU5QLDL1D"
      }
    },
    {
      "cell_type": "markdown",
      "source": [
        "4.  What is the difference between abstraction and encapsulation ?\n",
        "    - #  Abstraction:-\n",
        "       Definition: Abstraction is the process of hiding complex implementation details and showing only the essential features of an object.\n",
        "\n",
        "      Purpose: To reduce complexity and make the system easier to use.\n",
        "\n",
        "      # Encapsulation\n",
        "      Definition: Encapsulation is the technique of bundling data and methods that operate on that data within one unit (class), and restricting direct access to some of the object's components.\n",
        "\n",
        "     Purpose: To protect the data from outside interference and misuse.\n",
        "\n",
        "         "
      ],
      "metadata": {
        "id": "59chNNxCDL8D"
      }
    },
    {
      "cell_type": "markdown",
      "source": [
        "5.  What are dunder methods in Python ?\n",
        "    \n",
        "    # Defination\n",
        "\n",
        "     Dunder methods (short for “double underscore” methods) in Python are special predefined methods that start and end with double underscores, like __init__, __str__, or __add__. These methods allow you to define or customize the behavior of objects for built-in Python operations such as object creation, printing, addition, comparison, and more.\n",
        "    -"
      ],
      "metadata": {
        "id": "x2vN6c-XDMHD"
      }
    },
    {
      "cell_type": "markdown",
      "source": [
        "6.  Explain the concept of inheritance in OOP.\n",
        "\n",
        "    - Inheritance is a fundamental concept in Object-Oriented Programming (OOP) that allows a class (called a child class or subclass) to inherit properties and behaviors (methods) from another class (called a parent class or superclass). This promotes code reusability and establishes a natural hierarchy between classes."
      ],
      "metadata": {
        "id": "IWneopG5DMLT"
      }
    },
    {
      "cell_type": "markdown",
      "source": [
        "7.  What is polymorphism in OOP ?\n",
        "\n",
        "    - Polymorphism in Object-Oriented Programming (OOP) is the ability of different objects to respond to the same method or function call in different ways.\n",
        "\n",
        "    # Definition:\n",
        "\n",
        "     Polymorphism is the OOP concept that allows objects of different classes to be treated as objects of a common superclass, particularly through method overriding or overloading, enabling a single interface to represent different underlying forms (data types).\n",
        "    "
      ],
      "metadata": {
        "id": "aLjuh7aaKjwE"
      }
    },
    {
      "cell_type": "markdown",
      "source": [
        "8.  How is encapsulation achieved in Python ?\n",
        "\n",
        "    - Encapsulation in Python is achieved through classes, which allow you to bundle data (attributes) and methods (functions) that operate on that data into a single unit. Here's how it's implemented and controlled:\n",
        "\n",
        "# Access Modifiers\n",
        "\n",
        "Python uses naming conventions (not enforced like in some other languages) to indicate access levels:\n",
        "\n",
        "# Using Private Attributes\n",
        "   \n",
        "   Private variables/methods use double underscores to prevent direct access:\n",
        "\n",
        "# Name Mangling\n",
        "Python performs name mangling on private attributes:\n",
        "\n",
        "#Getter and Setter Methods\n",
        "\n",
        "These are used to access and update private variables safely:"
      ],
      "metadata": {
        "id": "VT8-0iV8Kjz0"
      }
    },
    {
      "cell_type": "markdown",
      "source": [
        " 9. What is a constructor in Python ?\n",
        "\n",
        "     \n",
        "  A constructor in Python is a special method used to initialize the newly created object of a class.\n",
        "\n",
        "    \n",
        "  \n",
        "#Definition:\n",
        "   \n",
        "   A constructor in Python is a special method called __init__() that is automatically invoked when an object of a class is created. It is used to initialize the attributes of the class.\n",
        "\n"
      ],
      "metadata": {
        "id": "A3Ebq2vMKj6k"
      }
    },
    {
      "cell_type": "markdown",
      "source": [
        "10.  What are class and static methods in Python ?\n",
        "    - In Python, class methods and static methods are two types of methods that behave differently than regular instance methods. They're defined using decorators and are used for different purposes.\n",
        "\n",
        "    # Class Methods (@classmethod)\n",
        "A class method takes cls as the first argument, which refers to the class itself (not an instance of the class). It can access and modify class state (e.g., class variables).\n",
        "\n",
        "    # Static Methods (@staticmethod)\n",
        "A static method doesn’t take self or cls as the first parameter. It behaves like a regular function but lives in the class’s namespace."
      ],
      "metadata": {
        "id": "097855E9Kj-L"
      }
    },
    {
      "cell_type": "markdown",
      "source": [
        "11.  What is method overloading in Python ?\n",
        "\n",
        "    # Definition of Method Overloading\n",
        "\n",
        "Method overloading in Python refers to the ability to define a method in such a way that it can accept a different number or types of arguments. However, unlike some other languages (like Java or C++), Python does not support traditional method overloading based on argument signatures.\n",
        "\n",
        "Instead, Python achieves method overloading by using default arguments or handling arguments dynamically using *args and **args.\n"
      ],
      "metadata": {
        "id": "Ih6vpYhvKkCE"
      }
    },
    {
      "cell_type": "markdown",
      "source": [
        "12. What is method overriding in OOP ?\n",
        "\n",
        "    # Definition of Method Overriding\n",
        "\n",
        "Method overriding in Object-Oriented Programming (OOP) is a feature that allows a subclass (child class) to provide a specific implementation of a method that is already defined in its superclass (parent class).\n",
        "\n",
        "When a method in a subclass has the same name, parameters, and return type as a method in the parent class, the method in the subclass overrides the one in the parent. The overridden method is called instead of the parent version when using a subclass object."
      ],
      "metadata": {
        "id": "94_gsbhwKkFk"
      }
    },
    {
      "cell_type": "markdown",
      "source": [
        "13. What is a property decorator in Python ?\n",
        "\n",
        "    # Definition of @property Decorator\n",
        "The @property decorator in Python is used to convert a method into a read-only property. It allows you to access a method like an attribute, while still executing code behind the scenes.\n",
        "\n",
        "\n"
      ],
      "metadata": {
        "id": "0omMNf_yKkKT"
      }
    },
    {
      "cell_type": "markdown",
      "source": [
        "14. Why is polymorphism important in OOP ?\n",
        "\n",
        "    # Why is Polymorphism Important in OOP?\n",
        "Polymorphism is a fundamental concept in Object-Oriented Programming (OOP) that allows objects of different classes to be treated as objects of a common superclass. It enables a single interface to represent different underlying forms (data types or behaviors).\n",
        "\n",
        "    #  Importance of Polymorphism:\n",
        "\n",
        "    Code Reusability:\n",
        "\n",
        "        You can write generic code that works with objects of different classes.\n",
        "\n",
        "        Promotes the use of inheritance and interfaces/abstract classes.\n",
        "\n",
        "    Extensibility:\n",
        "\n",
        "        New classes can be added with minimal or no changes to existing code.\n",
        "\n",
        "        Makes systems scalable and easier to maintain.\n",
        "\n",
        "    Simplifies Code:\n",
        "\n",
        "        You can call the same method on different objects and get different results based on the object’s class.\n",
        "\n",
        "        Cleaner and more readable code.\n",
        "\n",
        "    Supports Dynamic Method Binding (Late Binding):\n",
        "\n",
        "        The method that gets called is determined at runtime, allowing flexibility and dynamic behavior.\n",
        "\n",
        "    Enhances Flexibility and Interchangeability:\n",
        "\n",
        "        Objects can be used interchangeably as long as they follow the expected interface or structure."
      ],
      "metadata": {
        "id": "PfhxMGEOKkOL"
      }
    },
    {
      "cell_type": "markdown",
      "source": [
        "15. What is an abstract class in Python ?\n",
        "\n",
        "    #  Definition of Abstract Class  \n",
        "    \n",
        "     An abstract class in Python is a class that cannot be instantiated and is meant to be inherited by other classes. It can contain one or more abstract methods, which are methods declared but not implemented. These methods must be overridden in any subclass.\n",
        "\n"
      ],
      "metadata": {
        "id": "2RqgvGZKKkSk"
      }
    },
    {
      "cell_type": "markdown",
      "source": [
        "16.  What are the advantages of OOP ?\n",
        "\n",
        "    # advantages of OOP\n",
        "\n",
        "# Modularity\n",
        "Code is organized into classes and objects, which makes it easier to manage.\n",
        "\n",
        "Each class encapsulates data and behavior, promoting separation of concerns.\n",
        "\n",
        "    \n",
        "# Reusability\n",
        "Once a class is written, it can be reused in different programs.\n",
        "\n",
        "Inheritance allows new classes to be created based on existing ones, reducing redundancy\n",
        "\n",
        "# Encapsulation\n",
        "Internal object details are hidden from the outside world.\n",
        "\n",
        "This protects the integrity of the data and prevents unintended interference.\n",
        "\n",
        "# Abstraction\n",
        "You can work with complex systems more easily by interacting with simplified interfaces.\n",
        "\n",
        "It hides the internal implementation and only exposes the necessary parts.\n",
        "\n",
        "# Inheritance\n",
        "Enables hierarchical classification, where child classes inherit properties and methods from parent classes.\n",
        "\n",
        "Promotes code reuse and can simplify the addition of new features.\n",
        "\n",
        "# Polymorphism\n",
        "Objects can take many forms, allowing the same operation to behave differently on different classes.\n",
        "\n",
        "Supports method overloading and overriding, enabling flexible and scalable code.\n",
        "\n"
      ],
      "metadata": {
        "id": "VU-Tb26phfTg"
      }
    },
    {
      "cell_type": "markdown",
      "source": [
        "17. What is the difference between a class variable and an instance variable ?\n",
        "\n",
        "# Class Variable\n",
        "     \n",
        "Shared across all instances of a class.\n",
        "\n",
        "Defined inside the class but outside any instance methods.\n",
        "\n",
        "Changing it via the class affects all instances unless an instance overrides it.\n",
        "\n",
        "#  Instance Variable\n",
        "Unique to each instance of the class.\n",
        "\n",
        "Defined inside a constructor (__init__) or other instance methods using self."
      ],
      "metadata": {
        "id": "o4jM7qrdhfW0"
      }
    },
    {
      "cell_type": "markdown",
      "source": [
        "18. What is multiple inheritance in Python ?\n",
        "\n",
        "    # Definition of Multiple Inheritance in Python:\n",
        "Multiple inheritance is a feature in Python where a class can inherit from more than one parent class. This allows the child class to access attributes and methods from all its parent classes.\n",
        "\n",
        "    #  Key Points:\n",
        "The child class inherits all methods and properties from both Parent1 and Parent2.\n",
        "\n",
        "Python uses the Method Resolution Order (MRO) to decide which method to execute when there are conflicts (like methods with the same name in both parents).\n",
        "\n",
        "\n",
        "\n"
      ],
      "metadata": {
        "id": "QWlb8t9HhfaV"
      }
    },
    {
      "cell_type": "markdown",
      "source": [
        "19. Explain the purpose of ‘__str__’ and ‘__repr__’  methods in Python.\n",
        "\n",
        "    - In Python, the __str__ and __repr__ methods are special methods used to define how an object should be represented as a string. While they may seem similar, they serve different purposes:\n",
        "\n",
        "    # __str__(self)\n",
        "\n",
        "    Purpose:\n",
        "\n",
        "        Defines the \"informal\" or user-friendly string representation of an object.\n",
        "\n",
        "        Called by the str() function and the print() function.\n",
        "\n",
        "    # __repr__(self)\n",
        "\n",
        "    Purpose:\n",
        "\n",
        "        Defines the \"official\" or developer-friendly string representation of an object.\n",
        "\n",
        "         Called by the repr() function, or when you just type the object in an interactive session.\n",
        "\n",
        "\n",
        "\n"
      ],
      "metadata": {
        "id": "rnDURYSwhfdU"
      }
    },
    {
      "cell_type": "markdown",
      "source": [
        "20.  What is the significance of the ‘super()’ function in Python ?\n",
        "\n",
        "    - The super() function in Python is significant because it allows you to call methods from a parent (or superclass) in a class hierarchy. It's commonly used in inheritance to ensure that the parent class is properly initialized or that overridden methods still retain functionality from the superclass.\n",
        "\n",
        "    # Key Points about super():\n",
        "      \n",
        "# Calling Parent Methods:\n",
        "       \n",
        "It’s often used to call the constructor of a parent class so that it can initialize the inherited parts of the child class.\n",
        "\n",
        "# Avoiding Hardcoding Class Names:\n",
        "super() avoids explicitly referencing the parent class name, making code more maintainable and compatible with multiple inheritance.\n",
        "\n",
        "# Supports Multiple Inheritance:\n",
        "Python uses the Method Resolution Order (MRO) to determine the order in which classes are initialized. super() plays nicely with this system, especially in complex class hierarchies.\n",
        "\n",
        "# Works in Instance and Class Methods:\n",
        "You can use super() in both instance methods and class methods (with appropriate arguments).\n",
        "\n"
      ],
      "metadata": {
        "id": "0qXbT2uKhfgl"
      }
    },
    {
      "cell_type": "markdown",
      "source": [
        "21.  What is the significance of the __del__ method in Python ?\n",
        "\n",
        "    - The __del__ method in Python is known as a destructor. It is called when an object is about to be destroyed, which usually happens when there are no more references to the object. Here's a breakdown of its significance and behavior:\n",
        "\n",
        "    # Purpose of __del__\n",
        "\n",
        "    1. It allows you to define cleanup behavior for your objects.\n",
        "\n",
        "     2. Common use cases include:\n",
        "\n",
        "     (a) Releasing external resources like files or network connections.\n",
        "\n",
        "     (b) Logging when an object is destroyed.\n",
        "\n",
        "     (c) Closing database connections.\n"
      ],
      "metadata": {
        "id": "40T36852hfkW"
      }
    },
    {
      "cell_type": "markdown",
      "source": [
        "22.  What is the difference between @staticmethod and @classmethod in Python ?\n",
        "\n",
        "    # @staticmethod\n",
        "\n",
        "       Doesn't take self or cls as a first argument.\n",
        "\n",
        "       Belongs to the class but doesn't know anything about the class or instance.\n",
        "\n",
        "       Used when you want a method that's logically related to the class, but doesn't need to access the class or instance itself.\n",
        "\n",
        "    # @classmethod\n",
        "    \n",
        "     Takes cls as the first argument, which refers to the class (not the instance).\n",
        "\n",
        "     Can access and modify class state that applies across all instances.\n",
        "\n",
        "     Often used for factory methods—methods that return an instance of the class.\n",
        "\n",
        "\n"
      ],
      "metadata": {
        "id": "xPNBm-EVhf5F"
      }
    },
    {
      "cell_type": "markdown",
      "source": [
        "23. How does polymorphism work in Python with inheritance ?\n",
        "\n",
        "# What is Polymorphism?\n",
        "\n",
        "Polymorphism means \"many forms\". In object-oriented programming, it refers to the ability of different classes to respond to the same method call in a way that’s appropriate for their type.\n",
        "\n",
        "# Polymorphism with Inheritance in Python\n",
        "\n",
        "When you use inheritance, polymorphism allows you to call the same method on different objects derived from the same base class, and each object will respond in its own way.\n",
        "\n"
      ],
      "metadata": {
        "id": "wPexq8ysF9Kf"
      }
    },
    {
      "cell_type": "markdown",
      "source": [
        "24. What is method chaining in Python OOP ?\n",
        "\n",
        "    - Method chaining in Python (and in object-oriented programming generally) is a technique where multiple methods are called on the same object in a single line, one after another. Each method returns the object itself (or another object), allowing the next method to be called directly on it.\n",
        "\n",
        "    # Key Concepts\n",
        "    \n",
        "     1. return self: Each method must return the object (self) to allow chaining.\n",
        "\n",
        "     2. It makes the code more concise and readable when setting multiple attributes or applying several operations.\n",
        "\n",
        "    3. It’s commonly used in libraries like pandas, Django ORM, and fluent interfaces in general.\n",
        "\n",
        "    #  Benefits\n",
        "      \n",
        "    1. Cleaner syntax\n",
        "\n",
        "    2. Reduces need for repetitive code\n",
        "\n",
        "    3. Makes code more expressive\n",
        "\n"
      ],
      "metadata": {
        "id": "YhM8-ySJF9Xd"
      }
    },
    {
      "cell_type": "markdown",
      "source": [
        "25.  What is the purpose of the __call__ method in Python ?\n",
        "\n",
        "    - The __call__ method in Python is a special (magic) method that allows an instance of a class to be called as if it were a function.\n",
        "\n",
        "    # Purpose:\n",
        "     \n",
        "     When you define the __call__ method in a class, you can use instances of that class like a function.\n",
        "\n",
        "    # Why use __call__?\n",
        "\n",
        "    # Callable objects:\n",
        "    \n",
        "         Sometimes, it makes sense for an object to represent a behavior, like a function — this is common in things like function decorators, machine learning models, or middleware.\n",
        "\n",
        "    # Cleaner syntax:\n",
        "    \n",
        "          It allows for more elegant or intuitive APIs.\n",
        "\n",
        "    # Stateful functions:  \n",
        "     \n",
        "         You can create function-like objects that maintain state (something you can’t easily do with a normal function).\n",
        "\n"
      ],
      "metadata": {
        "id": "JlCKGzYlhgBs"
      }
    },
    {
      "cell_type": "markdown",
      "source": [
        "# Python OOPs Practical Questions"
      ],
      "metadata": {
        "id": "RopYo_MwO09N"
      }
    },
    {
      "cell_type": "code",
      "source": [
        "# Q.1 Create a parent class Animal with a method speak() that prints a generic message. Create a child class Dog\n",
        "# that overrides the speak() method to print \"Bark!\"\n",
        "\n",
        "class Animal:\n",
        "  def speak(self):\n",
        "    print(\"animal voice\")\n",
        "class Dog(Animal):\n",
        "  def speak(self):\n",
        "    print(\"Bark!\")\n",
        "dog = Dog()\n",
        "dog.speak()\n",
        "\n",
        "animal = Animal()\n",
        "animal.speak()"
      ],
      "metadata": {
        "id": "y_uuPjETPJ78",
        "colab": {
          "base_uri": "https://localhost:8080/"
        },
        "outputId": "0d6475b8-8382-49ae-a6b1-d911b363dc71"
      },
      "execution_count": 42,
      "outputs": [
        {
          "output_type": "stream",
          "name": "stdout",
          "text": [
            "Bark!\n",
            "animal voice\n"
          ]
        }
      ]
    },
    {
      "cell_type": "code",
      "source": [
        "# Q.2   Write a program to create an abstract class Shape with a method area(). Derive classes Circle and Rectangle\n",
        "# from it and implement the area() method in both\n",
        "import abc\n",
        "class Shape:\n",
        "  @abc.abstractmethod\n",
        "  def calculate_area(self):\n",
        "    pass\n",
        "\n",
        "class Rectangle(Shape):\n",
        "  def __init__(self, width, height):\n",
        "    self.width = width\n",
        "    self.height = height\n",
        "\n",
        "  def calculate_area(self):\n",
        "    return \"Area of rectangle is:\", self.height * self.width\n",
        "\n",
        "class Circle(Shape):\n",
        "  def __init__(self, r):\n",
        "    self.r = r\n",
        "\n",
        "  def calculate_area(self):\n",
        "    return \"Area of circle is :\", 3.14*self.r**2\n",
        "\n",
        "R1 = Rectangle(4,6)\n",
        "R1.calculate_area()"
      ],
      "metadata": {
        "id": "3rEnimAfPJ_U",
        "colab": {
          "base_uri": "https://localhost:8080/"
        },
        "outputId": "204cfba0-fc29-46a4-be77-674f727cd289"
      },
      "execution_count": 46,
      "outputs": [
        {
          "output_type": "execute_result",
          "data": {
            "text/plain": [
              "('Area of rectangle is:', 24)"
            ]
          },
          "metadata": {},
          "execution_count": 46
        }
      ]
    },
    {
      "cell_type": "code",
      "source": [
        "C1 = Circle(5)\n",
        "C1.calculate_area()"
      ],
      "metadata": {
        "id": "m5vaLTG0PKDV",
        "colab": {
          "base_uri": "https://localhost:8080/"
        },
        "outputId": "38715b98-2913-4f07-9535-24c9e896a1c9"
      },
      "execution_count": 48,
      "outputs": [
        {
          "output_type": "execute_result",
          "data": {
            "text/plain": [
              "('Area of circle is :', 78.5)"
            ]
          },
          "metadata": {},
          "execution_count": 48
        }
      ]
    },
    {
      "cell_type": "code",
      "source": [
        "# Q.3 Implement a multi-level inheritance scenario where a class Vehicle has an attribute type. Derive a class Car\n",
        "# and further derive a class ElectricCar that adds a battery attribute\n",
        "\n",
        "class Vehicle:\n",
        "  def __init__(self, type):\n",
        "    self.type = type\n",
        "\n",
        "  def display_info(self):\n",
        "    print(f\"vehicle type: {self.type}\")\n",
        "\n",
        "class Car(Vehicle):\n",
        "  def __init__(self, type, brand):\n",
        "    self.brand = brand\n",
        "    super().__init__(type)\n",
        "\n",
        "  def display_info(self):\n",
        "    super().display_info()\n",
        "    print(f\"Brand: {self.brand}\")\n",
        "\n",
        "class ElectricCar(Car):\n",
        "  def __init__(self, type , brand, battery):\n",
        "    super().__init__(type, brand)\n",
        "    self.battery = battery\n",
        "\n",
        "  def display_info(self):\n",
        "    super().display_info()\n",
        "    print(f\"Battery capacity: {self.battery} kwh\")\n",
        "\n",
        "ecar = ElectricCar(\"Electric\", \"Tesla\", 100)\n",
        "ecar.display_info()\n",
        "\n",
        "\n",
        "\n",
        "\n"
      ],
      "metadata": {
        "id": "UESlS42DPKG1",
        "colab": {
          "base_uri": "https://localhost:8080/"
        },
        "outputId": "d9a72c6f-0e18-4bea-a1b7-7a713520af4f"
      },
      "execution_count": 50,
      "outputs": [
        {
          "output_type": "stream",
          "name": "stdout",
          "text": [
            "vehicle type: Electric\n",
            "Brand: Tesla\n",
            "Battery capacity: 100 kwh\n"
          ]
        }
      ]
    },
    {
      "cell_type": "code",
      "source": [
        "# Q.4 Demonstrate polymorphism by creating a base class Bird with a method fly(). Create two derived classes\n",
        "# Sparrow and Penguin that override the fly() method.\n",
        "\n",
        "class Bird:\n",
        "  def fly():\n",
        "    return\"birds are flying \"\n",
        "\n",
        "class Sparrow(Bird):\n",
        "  def fly(self):\n",
        "    return\"sparrows are flying\"\n",
        "\n",
        "class Penguin(Bird):\n",
        "  def fly(self):\n",
        "    return\"penguins are flying\"\n",
        "\n",
        "def birds_flys(birds):\n",
        "  brd= birds.fly()\n",
        "  print(brd)\n",
        "\n",
        "s1 = Sparrow()\n",
        "p1 = Penguin()\n",
        "\n",
        "birds_flys(s1)\n",
        "birds_flys(p1)\n"
      ],
      "metadata": {
        "id": "2F7hmj8_PKJ0",
        "colab": {
          "base_uri": "https://localhost:8080/"
        },
        "outputId": "a3a2d740-5906-4443-b49b-bb73ac4e6c23"
      },
      "execution_count": 51,
      "outputs": [
        {
          "output_type": "stream",
          "name": "stdout",
          "text": [
            "sparrows are flying\n",
            "penguins are flying\n"
          ]
        }
      ]
    },
    {
      "cell_type": "code",
      "source": [
        "# Q.5 Write a program to demonstrate encapsulation by creating a class BankAccount with private attributes\n",
        "# balance and methods to deposit, withdraw, and check balance\n",
        "\n",
        "class BankAccount:\n",
        "  def __init__(self, balance):\n",
        "    self.__balance = balance\n",
        "\n",
        "  def deposit(self, amount):\n",
        "       self.__balance = self.__balance + amount\n",
        "       return self.__balance\n",
        "\n",
        "  def withdraw(self, amount):\n",
        "    if amount <= self.__balance:\n",
        "      self.__balance = self.__balance - amount\n",
        "      return f\"withdrawing amount {amount} successfully\"\n",
        "\n",
        "    else:\n",
        "      return \"we can't withdraw momey because you don't have sufficiant balance\"\n",
        "\n",
        "  def check_balance(self):\n",
        "    return self.__balance\n",
        "\n",
        "bank_1 = BankAccount(1000)\n",
        "bank_1.check_balance()\n",
        "\n",
        "\n"
      ],
      "metadata": {
        "id": "PxHADIgFPKNc",
        "colab": {
          "base_uri": "https://localhost:8080/"
        },
        "outputId": "2bd8cf9d-1cf5-489a-a716-086837e515b8"
      },
      "execution_count": 52,
      "outputs": [
        {
          "output_type": "execute_result",
          "data": {
            "text/plain": [
              "1000"
            ]
          },
          "metadata": {},
          "execution_count": 52
        }
      ]
    },
    {
      "cell_type": "code",
      "source": [
        "bank_1.deposit(2000)"
      ],
      "metadata": {
        "id": "JysXO2KrPKQl",
        "colab": {
          "base_uri": "https://localhost:8080/"
        },
        "outputId": "a0c3531b-c631-42d5-ae47-a243e5af7400"
      },
      "execution_count": 53,
      "outputs": [
        {
          "output_type": "execute_result",
          "data": {
            "text/plain": [
              "3000"
            ]
          },
          "metadata": {},
          "execution_count": 53
        }
      ]
    },
    {
      "cell_type": "code",
      "source": [
        "bank_1.check_balance()"
      ],
      "metadata": {
        "id": "P2oxRNYkPKT8",
        "colab": {
          "base_uri": "https://localhost:8080/"
        },
        "outputId": "6917cad6-afb8-41b3-f886-dc29d7a709f5"
      },
      "execution_count": 54,
      "outputs": [
        {
          "output_type": "execute_result",
          "data": {
            "text/plain": [
              "3000"
            ]
          },
          "metadata": {},
          "execution_count": 54
        }
      ]
    },
    {
      "cell_type": "code",
      "source": [
        "bank_1.withdraw(2000)"
      ],
      "metadata": {
        "id": "xqVxdmE4PKXV",
        "colab": {
          "base_uri": "https://localhost:8080/",
          "height": 36
        },
        "outputId": "f68ccf40-a1d4-4e7c-dc5a-3b25d623ca5a"
      },
      "execution_count": 55,
      "outputs": [
        {
          "output_type": "execute_result",
          "data": {
            "text/plain": [
              "'withdrawing amount 2000 successfully'"
            ],
            "application/vnd.google.colaboratory.intrinsic+json": {
              "type": "string"
            }
          },
          "metadata": {},
          "execution_count": 55
        }
      ]
    },
    {
      "cell_type": "code",
      "source": [
        "bank_1.check_balance()"
      ],
      "metadata": {
        "id": "9azrqvfZPKa2",
        "colab": {
          "base_uri": "https://localhost:8080/"
        },
        "outputId": "bd3d8fea-a89e-49b8-ca60-71f252af4558"
      },
      "execution_count": 56,
      "outputs": [
        {
          "output_type": "execute_result",
          "data": {
            "text/plain": [
              "1000"
            ]
          },
          "metadata": {},
          "execution_count": 56
        }
      ]
    },
    {
      "cell_type": "code",
      "source": [
        "bank_1.withdraw(3000)"
      ],
      "metadata": {
        "id": "mgek7EgzPKd1",
        "colab": {
          "base_uri": "https://localhost:8080/",
          "height": 36
        },
        "outputId": "3b1add2f-56e8-43e9-8f47-fcff320e9938"
      },
      "execution_count": 58,
      "outputs": [
        {
          "output_type": "execute_result",
          "data": {
            "text/plain": [
              "\"we can't withdraw momey because you don't have sufficiant balance\""
            ],
            "application/vnd.google.colaboratory.intrinsic+json": {
              "type": "string"
            }
          },
          "metadata": {},
          "execution_count": 58
        }
      ]
    },
    {
      "cell_type": "code",
      "source": [
        "# Q.6  Demonstrate runtime polymorphism using a method play() in a base class Instrument. Derive classes Guitar\n",
        "#  and Piano that implement their own version of play()\n",
        "\n",
        "class Instrument:\n",
        "  def play(self):\n",
        "    return \"instrument voice\"\n",
        "\n",
        "class Guitar(Instrument):\n",
        "  def play(self):\n",
        "    return \"guitar voice\"\n",
        "\n",
        "class Piano(Instrument):\n",
        "  def play(self):\n",
        "    return \"piano voice\"\n",
        "\n",
        "def play_instrument(instrument):\n",
        "  ins = instrument.play()\n",
        "  print(ins)\n",
        "\n",
        "g1 = Guitar()\n",
        "p1 = Piano()\n",
        "ins_1 = Instrument()\n",
        "play_instrument(g1)\n",
        "play_instrument(p1)\n",
        "play_instrument(ins_1)"
      ],
      "metadata": {
        "id": "isBucKtKPKhu",
        "colab": {
          "base_uri": "https://localhost:8080/"
        },
        "outputId": "e27f8af3-a192-4fe1-e483-7a837fa3c5b1"
      },
      "execution_count": 59,
      "outputs": [
        {
          "output_type": "stream",
          "name": "stdout",
          "text": [
            "guitar voice\n",
            "piano voice\n",
            "instrument voice\n"
          ]
        }
      ]
    },
    {
      "cell_type": "code",
      "source": [
        "# Q.7  Create a class MathOperations with a class method add_numbers() to add two numbers and a static\n",
        "#  method subtract_numbers() to subtract two numbers\n",
        "class MathOperations:\n",
        "\n",
        "  @classmethod\n",
        "  def add_numbers(cls, a, b):\n",
        "    return a+b\n",
        "\n",
        "  @staticmethod\n",
        "  def subtract_numbers(a,b):\n",
        "    return a-b\n",
        "MathOperations.add_numbers(5,8)"
      ],
      "metadata": {
        "colab": {
          "base_uri": "https://localhost:8080/"
        },
        "id": "IXeGuZzBpK7z",
        "outputId": "abbea4b2-64d9-4dcd-c64d-024d7cd84940"
      },
      "execution_count": 60,
      "outputs": [
        {
          "output_type": "execute_result",
          "data": {
            "text/plain": [
              "13"
            ]
          },
          "metadata": {},
          "execution_count": 60
        }
      ]
    },
    {
      "cell_type": "code",
      "source": [
        "MathOperations.subtract_numbers(15,5)"
      ],
      "metadata": {
        "colab": {
          "base_uri": "https://localhost:8080/"
        },
        "id": "lhfILwTXpK_s",
        "outputId": "bec5a695-5069-4f90-e660-5fd4430a5ebf"
      },
      "execution_count": 61,
      "outputs": [
        {
          "output_type": "execute_result",
          "data": {
            "text/plain": [
              "10"
            ]
          },
          "metadata": {},
          "execution_count": 61
        }
      ]
    },
    {
      "cell_type": "code",
      "source": [
        "# Q.8 Implement a class Person with a class method to count the total number of persons created\n",
        "class Person:\n",
        "  total_person = 0\n",
        "  def __init__(self, name):\n",
        "    self.name = name\n",
        "    Person.total_person += 1\n",
        "  @classmethod\n",
        "  def get_person_count(cls):\n",
        "     return cls.total_person\n",
        "\n",
        "p1 = Person(\"sakshi\")\n",
        "p2 = Person(\"ram\")\n",
        "p3 = Person(\"shaym\")\n",
        "print(f\"total persons created: {Person.get_person_count()}\")"
      ],
      "metadata": {
        "colab": {
          "base_uri": "https://localhost:8080/"
        },
        "id": "hRoj3z9IpLET",
        "outputId": "f3d97421-1def-4242-f434-2e5b3a43fa42"
      },
      "execution_count": 62,
      "outputs": [
        {
          "output_type": "stream",
          "name": "stdout",
          "text": [
            "total persons created: 3\n"
          ]
        }
      ]
    },
    {
      "cell_type": "code",
      "source": [
        "# Q.9  Write a class Fraction with attributes numerator and denominator. Override the str method to display the\n",
        "# fraction as \"numerator/denominator\"\n",
        "\n",
        "class Fraction:\n",
        "  def __init__(self, numerator , denominator ):\n",
        "    self.numerator  = numerator\n",
        "    self.denominator = denominator\n",
        "  def __str__(self):\n",
        "    return f\"{self.numerator}/{self.denominator}\"\n",
        "\n",
        "f1 = Fraction(3, 4)\n",
        "f2 = Fraction(7, 2)\n",
        "print(f1)\n"
      ],
      "metadata": {
        "colab": {
          "base_uri": "https://localhost:8080/"
        },
        "id": "LTqhPvIIpLHy",
        "outputId": "58481e1c-74ea-4e8f-df3c-b08fe15717ac"
      },
      "execution_count": 63,
      "outputs": [
        {
          "output_type": "stream",
          "name": "stdout",
          "text": [
            "3/4\n"
          ]
        }
      ]
    },
    {
      "cell_type": "code",
      "source": [
        "print(f2)"
      ],
      "metadata": {
        "colab": {
          "base_uri": "https://localhost:8080/"
        },
        "id": "kaLmrOYVpLKy",
        "outputId": "24878bbb-4095-465f-873b-8114a9784d0f"
      },
      "execution_count": 64,
      "outputs": [
        {
          "output_type": "stream",
          "name": "stdout",
          "text": [
            "7/2\n"
          ]
        }
      ]
    },
    {
      "cell_type": "code",
      "source": [
        "# Q.10 Demonstrate operator overloading by creating a class Vector and overriding the add method to add two vectors.\n",
        "\n",
        "class Vector:\n",
        "  def __init__(self, x, y):\n",
        "    self.x = x\n",
        "    self.y = y\n",
        "  def __add__(self, other):\n",
        "    return self.x + other.x, self.y + other.y\n",
        "  def __str__(self):\n",
        "    return f\"{self.x}, {self.y}\"\n",
        "\n",
        "v1 = Vector(2,3)\n",
        "v2 = Vector(4,5)\n",
        "v3 = v1+v2\n",
        "print(v3)\n",
        "\n",
        "\n",
        "\n",
        "\n"
      ],
      "metadata": {
        "colab": {
          "base_uri": "https://localhost:8080/"
        },
        "id": "aiMEtmAopLN5",
        "outputId": "8e56fa20-2680-4708-ca08-b2aff839f976"
      },
      "execution_count": 65,
      "outputs": [
        {
          "output_type": "stream",
          "name": "stdout",
          "text": [
            "(6, 8)\n"
          ]
        }
      ]
    },
    {
      "cell_type": "code",
      "source": [
        "# Q.11 Create a class Person with attributes name and age. Add a method greet() that prints \"Hello, my name is {name} and I am {age} years old.\n",
        "\n",
        "class Person:\n",
        "  def __init__(self, name, age):\n",
        "    self.name = name\n",
        "    self.age = age\n",
        "\n",
        "  def greet(self):\n",
        "    return f\"Hello, my name is {self.name} and I am {self.age} years old\"\n",
        "p1 = Person(\"sakshi\", 25)\n",
        "p1.greet()"
      ],
      "metadata": {
        "id": "v_kMysLPpLQ6",
        "colab": {
          "base_uri": "https://localhost:8080/",
          "height": 36
        },
        "outputId": "85c5552a-22f1-41dd-ab99-f907ef528c03"
      },
      "execution_count": 66,
      "outputs": [
        {
          "output_type": "execute_result",
          "data": {
            "text/plain": [
              "'Hello, my name is sakshi and I am 25 years old'"
            ],
            "application/vnd.google.colaboratory.intrinsic+json": {
              "type": "string"
            }
          },
          "metadata": {},
          "execution_count": 66
        }
      ]
    },
    {
      "cell_type": "code",
      "source": [
        "# Q.12  Implement a class Student with attributes name and grades. Create a method average_grade() to compute the average of the grades.\n",
        "\n",
        "import statistics\n",
        "class Student:\n",
        "  def __init__(self, name , grades):\n",
        "    self.name = name\n",
        "    self.grades = grades\n",
        "\n",
        "  def average_grade(self):\n",
        "    grade = statistics.mean(self.grades)\n",
        "    if grade >= 90 :\n",
        "      print(f\"average grade is: A and percentage is: {grade}\")\n",
        "    elif 80 <= grade <= 90 :\n",
        "      print(f\"average grade is: B and percentage is: {grade}\")\n",
        "    elif 70 <= grade <= 80:\n",
        "      print(f\"average grade is: C and percentage is: {grade}\")\n",
        "    else:\n",
        "      print(f\"average grade is: D and percentage is: {grade}\")\n",
        "\n",
        "s1 = Student(\"sakshi\", [85,90,78,92])\n",
        "s1.average_grade()\n",
        "\n"
      ],
      "metadata": {
        "id": "oEfyoYblpLUM",
        "colab": {
          "base_uri": "https://localhost:8080/"
        },
        "outputId": "62b4ba11-213a-4e6e-f8f4-8a2273310aa1"
      },
      "execution_count": 67,
      "outputs": [
        {
          "output_type": "stream",
          "name": "stdout",
          "text": [
            "average grade is: B and percentage is: 86.25\n"
          ]
        }
      ]
    },
    {
      "cell_type": "code",
      "source": [
        "# Q.13 . Create a class Rectangle with methods set_dimensions() to set the dimensions and area() to calculate the area.\n",
        "\n",
        "class Rectangle:\n",
        "  def __init__(self, length, width):\n",
        "    self.length = length\n",
        "    self.width = width\n",
        "\n",
        "  def set_dimensions(self):\n",
        "    dimension = 2*(self.length + self.width)\n",
        "    return f\"Dimensions of a rectangle: {dimension}\"\n",
        "\n",
        "  def area(self):\n",
        "    Area = self.length * self.width\n",
        "    return f\"Area of a rectangle: {Area}\"\n",
        "\n",
        "R1 = Rectangle(4,5)\n",
        "R1.set_dimensions()"
      ],
      "metadata": {
        "id": "BfN8sGWlpLXK",
        "colab": {
          "base_uri": "https://localhost:8080/",
          "height": 36
        },
        "outputId": "02501b26-3c82-4e0b-ac49-45093decca3e"
      },
      "execution_count": 73,
      "outputs": [
        {
          "output_type": "execute_result",
          "data": {
            "text/plain": [
              "'Dimensions of a rectangle: 18'"
            ],
            "application/vnd.google.colaboratory.intrinsic+json": {
              "type": "string"
            }
          },
          "metadata": {},
          "execution_count": 73
        }
      ]
    },
    {
      "cell_type": "code",
      "source": [
        "R1.area()"
      ],
      "metadata": {
        "id": "bpHipZZVbP-9",
        "colab": {
          "base_uri": "https://localhost:8080/",
          "height": 36
        },
        "outputId": "23047ea2-2763-4cf3-8935-bd77c4ba2544"
      },
      "execution_count": 74,
      "outputs": [
        {
          "output_type": "execute_result",
          "data": {
            "text/plain": [
              "'Area of a rectangle: 20'"
            ],
            "application/vnd.google.colaboratory.intrinsic+json": {
              "type": "string"
            }
          },
          "metadata": {},
          "execution_count": 74
        }
      ]
    },
    {
      "cell_type": "code",
      "source": [
        "# Q.14  Create a class Employee with a method calculate_salary() that computes the salary based on hours worked\n",
        "# and hourly rate. Create a derived class Manager that adds a bonus to the salary\n",
        "\n",
        "class Employee:\n",
        "  def __init__(self, working_hours, hourly_rate, employee_attends):\n",
        "    self.working_hours = working_hours\n",
        "    self.hourly_rate = hourly_rate\n",
        "    self.employee_attends = employee_attends\n",
        "\n",
        "  def calculate_salary(self):\n",
        "    one_day_amount = self.working_hours * self.hourly_rate\n",
        "    salary = one_day_amount * self.employee_attends\n",
        "    return salary\n",
        "\n",
        "class Manager(Employee):\n",
        "  def __init__(self,working_hours, hourly_rate, employee_attends, bonus):\n",
        "        super().__init__(working_hours, hourly_rate, employee_attends)\n",
        "        self.bonus = bonus\n",
        "\n",
        "  def total_salary(self):\n",
        "    Total_salary = int(self.calculate_salary())+self.bonus\n",
        "    return f\"total salary with bonus : {Total_salary}\"\n",
        "\n",
        "\n",
        "\n",
        "\n",
        "E1 = Employee(5,300,28)\n",
        "E1.calculate_salary()"
      ],
      "metadata": {
        "id": "__UMfjx4bQCc",
        "colab": {
          "base_uri": "https://localhost:8080/"
        },
        "outputId": "11201275-fd51-4a06-a821-ba77a8078337"
      },
      "execution_count": 78,
      "outputs": [
        {
          "output_type": "execute_result",
          "data": {
            "text/plain": [
              "42000"
            ]
          },
          "metadata": {},
          "execution_count": 78
        }
      ]
    },
    {
      "cell_type": "code",
      "source": [
        "M1 = Manager(5,300,28,1000)\n",
        "M1.total_salary()"
      ],
      "metadata": {
        "id": "v6KehCWSbRHz",
        "colab": {
          "base_uri": "https://localhost:8080/",
          "height": 36
        },
        "outputId": "7643e548-d63b-4563-9856-460bfc27755a"
      },
      "execution_count": 77,
      "outputs": [
        {
          "output_type": "execute_result",
          "data": {
            "text/plain": [
              "'total salary with bonus : 43000'"
            ],
            "application/vnd.google.colaboratory.intrinsic+json": {
              "type": "string"
            }
          },
          "metadata": {},
          "execution_count": 77
        }
      ]
    },
    {
      "cell_type": "code",
      "source": [
        "# Q.15 Create a class Product with attributes name, price, and quantity. Implement a method total_price() that\n",
        "# calculates the total price of the product\n",
        "\n",
        "class Product:\n",
        "  def __init__(self, name , price , quantity):\n",
        "    self.name = name\n",
        "    self.price = price\n",
        "    self.quantity = quantity\n",
        "\n",
        "  def total_price(self):\n",
        "    Total_price = self.price * self.quantity\n",
        "    return f\"total price of the {self.name} is: {Total_price}\"\n",
        "\n",
        "P1 = Product(\"Oreo_biscuits\", 10, 20)\n",
        "P1.total_price()"
      ],
      "metadata": {
        "id": "r3TOOCibpLaa",
        "colab": {
          "base_uri": "https://localhost:8080/",
          "height": 36
        },
        "outputId": "e5227675-06ae-426d-92a9-5ef4079446dc"
      },
      "execution_count": 80,
      "outputs": [
        {
          "output_type": "execute_result",
          "data": {
            "text/plain": [
              "'total price of the Oreo_biscuits is: 200'"
            ],
            "application/vnd.google.colaboratory.intrinsic+json": {
              "type": "string"
            }
          },
          "metadata": {},
          "execution_count": 80
        }
      ]
    },
    {
      "cell_type": "code",
      "source": [
        "# Q.16 Create a class Animal with an abstract method sound(). Create two derived classes Cow and Sheep that\n",
        "# implement the sound() method\n",
        "\n",
        "import abc\n",
        "class Animal:\n",
        "  @abc.abstractmethod\n",
        "  def sound(self):\n",
        "    pass\n",
        "\n",
        "class Cow(Animal):\n",
        "  def sound(self):\n",
        "    return \"Moo, Moo\"\n",
        "\n",
        "class Sheep(Animal):\n",
        "  def sound(self):\n",
        "    return \"Baa, Baa\"\n",
        "\n",
        "def animal_sound(value):\n",
        "  return value.sound()\n",
        "\n",
        "C1 = Cow()\n",
        "S1 = Sheep()\n",
        "animal_sound(C1)"
      ],
      "metadata": {
        "colab": {
          "base_uri": "https://localhost:8080/",
          "height": 36
        },
        "id": "1J4GyrxfZnAq",
        "outputId": "46de4a74-35fb-4383-ba6b-9e4e01af2039"
      },
      "execution_count": 81,
      "outputs": [
        {
          "output_type": "execute_result",
          "data": {
            "text/plain": [
              "'Moo, Moo'"
            ],
            "application/vnd.google.colaboratory.intrinsic+json": {
              "type": "string"
            }
          },
          "metadata": {},
          "execution_count": 81
        }
      ]
    },
    {
      "cell_type": "code",
      "source": [
        "animal_sound(S1)"
      ],
      "metadata": {
        "colab": {
          "base_uri": "https://localhost:8080/",
          "height": 36
        },
        "id": "XGAxVFTzZnDz",
        "outputId": "6cd81181-76c5-4761-8ae6-313334281c41"
      },
      "execution_count": 83,
      "outputs": [
        {
          "output_type": "execute_result",
          "data": {
            "text/plain": [
              "'Baa, Baa'"
            ],
            "application/vnd.google.colaboratory.intrinsic+json": {
              "type": "string"
            }
          },
          "metadata": {},
          "execution_count": 83
        }
      ]
    },
    {
      "cell_type": "code",
      "source": [
        "# Q.17  Create a class Book with attributes title, author, and year_published. Add a method get_book_info() that\n",
        "# returns a formatted string with the book's details.\n",
        "\n",
        "class Book:\n",
        "  def __init__(self, title,author,year_published):\n",
        "    self.title = title\n",
        "    self.author = author\n",
        "    self.year_published = year_published\n",
        "\n",
        "  def get_book_info(self):\n",
        "    return f\"Book title: {self.title}, Book author: {self.author}, Published year of the book: {self.year_published}\"\n",
        "\n",
        "B1 = Book(\"Atomic Habits\", \"James Clear\", \"16 October 2018\")\n",
        "B1.get_book_info()"
      ],
      "metadata": {
        "colab": {
          "base_uri": "https://localhost:8080/",
          "height": 36
        },
        "id": "ATWkfvzcZnKy",
        "outputId": "ce8954aa-8a77-4d02-99ac-8d2a004cd91e"
      },
      "execution_count": 84,
      "outputs": [
        {
          "output_type": "execute_result",
          "data": {
            "text/plain": [
              "'Book title: Atomic Habits, Book author: James Clear, Published year of the book: 16 October 2018'"
            ],
            "application/vnd.google.colaboratory.intrinsic+json": {
              "type": "string"
            }
          },
          "metadata": {},
          "execution_count": 84
        }
      ]
    },
    {
      "cell_type": "code",
      "source": [
        "# Q.18 Create a class House with attributes address and price. Create a derived class Mansion that adds an\n",
        "# attribute number_of_rooms\n",
        "\n",
        "class House:\n",
        "  def __init__(self,address,price):\n",
        "    self.address = address\n",
        "    self.price = price\n",
        "\n",
        "class Mansion(House):\n",
        "  def __init__(self, address, price, number_of_rooms):\n",
        "    super().__init__(address, price)\n",
        "    self.number_of_rooms = number_of_rooms\n",
        "\n",
        "  def house_info(self):\n",
        "    print(f\"House address: {self.address}\\nHouse price: {self.price}\\nnumber of rooms in house: {self.number_of_rooms}\")\n",
        "\n",
        "M2 = Mansion(\"satna(m.p)\", 1000000, 8)\n",
        "M2.house_info()\n"
      ],
      "metadata": {
        "id": "VpuRtn0yZnN7",
        "colab": {
          "base_uri": "https://localhost:8080/"
        },
        "outputId": "34e02007-8c90-4926-8866-21f78242219b"
      },
      "execution_count": 85,
      "outputs": [
        {
          "output_type": "stream",
          "name": "stdout",
          "text": [
            "House address: satna(m.p)\n",
            "House price: 1000000\n",
            "number of rooms in house: 8\n"
          ]
        }
      ]
    }
  ]
}